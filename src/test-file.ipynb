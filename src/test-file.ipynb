{
 "cells": [
  {
   "cell_type": "code",
   "execution_count": 19,
   "metadata": {},
   "outputs": [],
   "source": [
    "import sys\n",
    "sys.path.append('F:/Code/MachineLearning/src/')\n",
    "from utils.preprocessing import train_test_split\n",
    "import numpy as np"
   ]
  },
  {
   "cell_type": "code",
   "execution_count": 27,
   "metadata": {},
   "outputs": [
    {
     "name": "stdout",
     "output_type": "stream",
     "text": [
      "[[ 9 10 11 12]\n",
      " [13 14 15 16]]\n"
     ]
    }
   ],
   "source": [
    "X = np.arange(1,17)\n",
    "X = X.reshape(4,4)\n",
    "y = np.array([0,1,1,0])\n",
    "\n",
    "X_train, X_test, y_train, y_test = train_test_split(X, y, 0.5, True)\n",
    "print (X_train)"
   ]
  }
 ],
 "metadata": {
  "interpreter": {
   "hash": "6a2902a5083f07625e79f6971b024e91ab83c6dbfeb711bf2778f3a1cc43cb43"
  },
  "kernelspec": {
   "display_name": "Python 3.8.12 64-bit ('tf38': conda)",
   "name": "python3"
  },
  "language_info": {
   "codemirror_mode": {
    "name": "ipython",
    "version": 3
   },
   "file_extension": ".py",
   "mimetype": "text/x-python",
   "name": "python",
   "nbconvert_exporter": "python",
   "pygments_lexer": "ipython3",
   "version": "3.8.12"
  },
  "orig_nbformat": 4
 },
 "nbformat": 4,
 "nbformat_minor": 2
}
