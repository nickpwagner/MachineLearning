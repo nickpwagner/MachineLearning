{
 "cells": [
  {
   "cell_type": "code",
   "execution_count": 2,
   "metadata": {},
   "outputs": [],
   "source": [
    "\"\"\" https://keras.io/api/datasets/cifar10/ \n",
    "    https://keras.io/guides/sequential_model/ \"\"\"\n",
    "\n",
    "import sys\n",
    "sys.path.append('F:/Code/MachineLearning/src/')\n",
    "import tensorflow as tf\n",
    "import tensorflow.keras as keras\n",
    "import numpy as np\n",
    "import matplotlib.pyplot as plt"
   ]
  },
  {
   "cell_type": "code",
   "execution_count": 3,
   "metadata": {},
   "outputs": [
    {
     "name": "stdout",
     "output_type": "stream",
     "text": [
      "Num GPUs Available:  1\n"
     ]
    }
   ],
   "source": [
    "print(\"Num GPUs Available: \", len(tf.config.list_physical_devices('GPU')))"
   ]
  },
  {
   "cell_type": "code",
   "execution_count": 4,
   "metadata": {},
   "outputs": [
    {
     "data": {
      "image/png": "[encoded data removed]",
      "text/plain": [
       "<Figure size 432x288 with 2 Axes>"
      ]
     },
     "metadata": {
      "needs_background": "light"
     },
     "output_type": "display_data"
    }
   ],
   "source": [
    "(x_train, y_train), (x_test, y_test) = keras.datasets.cifar10.load_data()\n",
    "label_dict = {0:\"airplane\", 1:\"automobile\", 2:\"bird\", 3:\"cat\", 4:\"deer\", 5: \"dog\", 6:\"frog\", 7:\"horse\", 8:\"ship\", 9:\"truck\"}\n",
    "\n",
    "plt.imshow(x_train[0])\n",
    "plt.title(label_dict[int(y_train[0])])\n",
    "plt.colorbar()\n",
    "plt.show()"
   ]
  },
  {
   "cell_type": "code",
   "execution_count": 5,
   "metadata": {},
   "outputs": [
    {
     "name": "stdout",
     "output_type": "stream",
     "text": [
      "(50000, 32, 32, 3)\n"
     ]
    }
   ],
   "source": [
    "# add another axis to x_train\n",
    "#x_train = np.expand_dims(x_train,-1).astype(np.float32)\n",
    "x_train = x_train.astype(np.float32)\n",
    "#x_test = np.expand_dims(x_test,-1).astype(np.float32)\n",
    "x_test = x_train.astype(np.float32)\n",
    "print(x_train.shape)\n",
    "# normalize pixel values to [0,1]\n",
    "x_train /= 255\n",
    "x_test /= 255"
   ]
  },
  {
   "cell_type": "code",
   "execution_count": 6,
   "metadata": {},
   "outputs": [
    {
     "name": "stdout",
     "output_type": "stream",
     "text": [
      "Model: \"sequential\"\n",
      "_________________________________________________________________\n",
      "Layer (type)                 Output Shape              Param #   \n",
      "=================================================================\n",
      "conv2d (Conv2D)              (None, 30, 30, 32)        896       \n",
      "_________________________________________________________________\n",
      "conv2d_1 (Conv2D)            (None, 28, 28, 32)        9248      \n",
      "_________________________________________________________________\n",
      "dropout (Dropout)            (None, 28, 28, 32)        0         \n",
      "_________________________________________________________________\n",
      "max_pooling2d (MaxPooling2D) (None, 9, 9, 32)          0         \n",
      "_________________________________________________________________\n",
      "conv2d_2 (Conv2D)            (None, 7, 7, 64)          18496     \n",
      "_________________________________________________________________\n",
      "conv2d_3 (Conv2D)            (None, 5, 5, 64)          36928     \n",
      "_________________________________________________________________\n",
      "dropout_1 (Dropout)          (None, 5, 5, 64)          0         \n",
      "_________________________________________________________________\n",
      "max_pooling2d_1 (MaxPooling2 (None, 2, 2, 64)          0         \n",
      "_________________________________________________________________\n",
      "flatten (Flatten)            (None, 256)               0         \n",
      "_________________________________________________________________\n",
      "dense (Dense)                (None, 256)               65792     \n",
      "_________________________________________________________________\n",
      "dropout_2 (Dropout)          (None, 256)               0         \n",
      "_________________________________________________________________\n",
      "dense_1 (Dense)              (None, 10)                2570      \n",
      "=================================================================\n",
      "Total params: 133,930\n",
      "Trainable params: 133,930\n",
      "Non-trainable params: 0\n",
      "_________________________________________________________________\n",
      "Epoch 1/50\n",
      "1000/1000 [==============================] - 10s 7ms/step - loss: 1.7802 - accuracy: 0.3379\n",
      "Epoch 2/50\n",
      "1000/1000 [==============================] - 7s 7ms/step - loss: 1.4442 - accuracy: 0.4745\n",
      "Epoch 3/50\n",
      "1000/1000 [==============================] - 7s 7ms/step - loss: 1.2999 - accuracy: 0.5308\n",
      "Epoch 4/50\n",
      "1000/1000 [==============================] - 7s 7ms/step - loss: 1.1912 - accuracy: 0.5790\n",
      "Epoch 5/50\n",
      "1000/1000 [==============================] - 8s 8ms/step - loss: 1.1111 - accuracy: 0.6074\n",
      "Epoch 6/50\n",
      "1000/1000 [==============================] - 8s 8ms/step - loss: 1.0467 - accuracy: 0.6310\n",
      "Epoch 7/50\n",
      "1000/1000 [==============================] - 8s 8ms/step - loss: 0.9957 - accuracy: 0.6491\n",
      "Epoch 8/50\n",
      "1000/1000 [==============================] - 8s 8ms/step - loss: 0.9453 - accuracy: 0.6672\n",
      "Epoch 9/50\n",
      "1000/1000 [==============================] - 7s 7ms/step - loss: 0.9068 - accuracy: 0.6823\n",
      "Epoch 10/50\n",
      "1000/1000 [==============================] - 8s 8ms/step - loss: 0.8807 - accuracy: 0.6919\n",
      "Epoch 11/50\n",
      "1000/1000 [==============================] - 7s 7ms/step - loss: 0.8419 - accuracy: 0.7056\n",
      "Epoch 12/50\n",
      "1000/1000 [==============================] - 7s 7ms/step - loss: 0.8163 - accuracy: 0.7134\n",
      "Epoch 13/50\n",
      "1000/1000 [==============================] - 7s 7ms/step - loss: 0.7936 - accuracy: 0.7235\n",
      "Epoch 14/50\n",
      "1000/1000 [==============================] - 7s 7ms/step - loss: 0.7738 - accuracy: 0.7311\n",
      "Epoch 15/50\n",
      "1000/1000 [==============================] - 7s 7ms/step - loss: 0.7534 - accuracy: 0.7384\n",
      "Epoch 16/50\n",
      "1000/1000 [==============================] - 7s 7ms/step - loss: 0.7290 - accuracy: 0.7452\n",
      "Epoch 17/50\n",
      "1000/1000 [==============================] - 7s 7ms/step - loss: 0.7167 - accuracy: 0.7479\n",
      "Epoch 18/50\n",
      "1000/1000 [==============================] - 7s 7ms/step - loss: 0.6970 - accuracy: 0.7566\n",
      "Epoch 19/50\n",
      "1000/1000 [==============================] - 7s 7ms/step - loss: 0.6817 - accuracy: 0.7620\n",
      "Epoch 20/50\n",
      "1000/1000 [==============================] - 7s 7ms/step - loss: 0.6719 - accuracy: 0.7645\n",
      "Epoch 21/50\n",
      "1000/1000 [==============================] - 7s 7ms/step - loss: 0.6553 - accuracy: 0.7734\n",
      "Epoch 22/50\n",
      "1000/1000 [==============================] - 7s 7ms/step - loss: 0.6396 - accuracy: 0.7754\n",
      "Epoch 23/50\n",
      "1000/1000 [==============================] - 7s 7ms/step - loss: 0.6259 - accuracy: 0.7801\n",
      "Epoch 24/50\n",
      "1000/1000 [==============================] - 7s 7ms/step - loss: 0.6137 - accuracy: 0.7846\n",
      "Epoch 25/50\n",
      "1000/1000 [==============================] - 7s 7ms/step - loss: 0.6099 - accuracy: 0.7877\n",
      "Epoch 26/50\n",
      "1000/1000 [==============================] - 7s 7ms/step - loss: 0.5993 - accuracy: 0.7894\n",
      "Epoch 27/50\n",
      "1000/1000 [==============================] - 7s 7ms/step - loss: 0.5858 - accuracy: 0.7935\n",
      "Epoch 28/50\n",
      "1000/1000 [==============================] - 7s 7ms/step - loss: 0.5779 - accuracy: 0.7963\n",
      "Epoch 29/50\n",
      "1000/1000 [==============================] - 7s 7ms/step - loss: 0.5687 - accuracy: 0.7991\n",
      "Epoch 30/50\n",
      "1000/1000 [==============================] - 7s 7ms/step - loss: 0.5579 - accuracy: 0.8018\n",
      "Epoch 31/50\n",
      "1000/1000 [==============================] - 7s 7ms/step - loss: 0.5484 - accuracy: 0.8071\n",
      "Epoch 32/50\n",
      "1000/1000 [==============================] - 7s 7ms/step - loss: 0.5410 - accuracy: 0.8093\n",
      "Epoch 33/50\n",
      "1000/1000 [==============================] - 7s 7ms/step - loss: 0.5322 - accuracy: 0.8115\n",
      "Epoch 34/50\n",
      "1000/1000 [==============================] - 7s 7ms/step - loss: 0.5259 - accuracy: 0.8132\n",
      "Epoch 35/50\n",
      "1000/1000 [==============================] - 7s 7ms/step - loss: 0.5205 - accuracy: 0.8165\n",
      "Epoch 36/50\n",
      "1000/1000 [==============================] - 7s 7ms/step - loss: 0.5064 - accuracy: 0.8214\n",
      "Epoch 37/50\n",
      "1000/1000 [==============================] - 7s 7ms/step - loss: 0.5032 - accuracy: 0.8202\n",
      "Epoch 38/50\n",
      "1000/1000 [==============================] - 7s 7ms/step - loss: 0.4982 - accuracy: 0.8234\n",
      "Epoch 39/50\n",
      "1000/1000 [==============================] - 7s 7ms/step - loss: 0.4952 - accuracy: 0.8224\n",
      "Epoch 40/50\n",
      "1000/1000 [==============================] - 7s 7ms/step - loss: 0.4845 - accuracy: 0.8277\n",
      "Epoch 41/50\n",
      "1000/1000 [==============================] - 7s 7ms/step - loss: 0.4833 - accuracy: 0.8299\n",
      "Epoch 42/50\n",
      "1000/1000 [==============================] - 7s 7ms/step - loss: 0.4779 - accuracy: 0.8289\n",
      "Epoch 43/50\n",
      "1000/1000 [==============================] - 7s 7ms/step - loss: 0.4702 - accuracy: 0.8319\n",
      "Epoch 44/50\n",
      "1000/1000 [==============================] - 7s 7ms/step - loss: 0.4608 - accuracy: 0.8378\n",
      "Epoch 45/50\n",
      "1000/1000 [==============================] - 7s 7ms/step - loss: 0.4608 - accuracy: 0.8345\n",
      "Epoch 46/50\n",
      "1000/1000 [==============================] - 7s 7ms/step - loss: 0.4539 - accuracy: 0.8391\n",
      "Epoch 47/50\n",
      "1000/1000 [==============================] - 7s 7ms/step - loss: 0.4452 - accuracy: 0.8414\n",
      "Epoch 48/50\n",
      "1000/1000 [==============================] - 7s 7ms/step - loss: 0.4436 - accuracy: 0.8418\n",
      "Epoch 49/50\n",
      "1000/1000 [==============================] - 7s 7ms/step - loss: 0.4415 - accuracy: 0.8419\n",
      "Epoch 50/50\n",
      "1000/1000 [==============================] - 7s 7ms/step - loss: 0.4287 - accuracy: 0.8462\n"
     ]
    },
    {
     "data": {
      "text/plain": [
       "<keras.callbacks.History at 0x2349e63d280>"
      ]
     },
     "execution_count": 6,
     "metadata": {},
     "output_type": "execute_result"
    }
   ],
   "source": [
    "\"\"\"Functional (sequential) API\"\"\"\n",
    "model = keras.Sequential([\n",
    "    keras.Input(shape=(32,32,3)),\n",
    "    keras.layers.Conv2D(32, (3,3), activation=\"relu\"), #30x30x16\n",
    "    keras.layers.Conv2D(32, (3,3), activation=\"relu\"), #28x28x32\n",
    "    keras.layers.Dropout(0.25),\n",
    "    keras.layers.MaxPooling2D((3,3)), #9x9x32\n",
    "    keras.layers.Conv2D(64, (3, 3), activation=\"relu\"), #7x7x64\n",
    "    keras.layers.Conv2D(64, (3, 3), activation=\"relu\"), #5x5x64\n",
    "    keras.layers.Dropout(0.25),\n",
    "    keras.layers.MaxPooling2D((2, 2)),  #2x2x64\n",
    "    keras.layers.Flatten(),\n",
    "    keras.layers.Dense(256, activation=\"relu\"),\n",
    "    keras.layers.Dropout(0.5),\n",
    "    keras.layers.Dense(10, activation=\"softmax\")\n",
    "])\n",
    "model.compile(\n",
    "    optimizer=keras.optimizers.Adam(3e-4),\n",
    "    loss=keras.losses.sparse_categorical_crossentropy, \n",
    "    metrics=[\"accuracy\"],\n",
    ")\n",
    "model.build((50,32,32,3))\n",
    "model.fit(x_train, y_train, batch_size=50, epochs=20)"
   ]
  }
 ],
 "metadata": {
  "interpreter": {
   "hash": "20a628aeaf1552a3a2cb9fc9cc07008276e85f25ff84d2694a05032d24561cc5"
  },
  "kernelspec": {
   "display_name": "Python 3.9.7 64-bit ('tf39': conda)",
   "name": "python3"
  },
  "language_info": {
   "codemirror_mode": {
    "name": "ipython",
    "version": 3
   },
   "file_extension": ".py",
   "mimetype": "text/x-python",
   "name": "python",
   "nbconvert_exporter": "python",
   "pygments_lexer": "ipython3",
   "version": "3.9.7"
  },
  "orig_nbformat": 4
 },
 "nbformat": 4,
 "nbformat_minor": 2
}
